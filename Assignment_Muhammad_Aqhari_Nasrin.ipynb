{
 "cells": [
  {
   "cell_type": "markdown",
   "id": "a4bb519e",
   "metadata": {},
   "source": [
    "## Data Science Assignment\n",
    "\n"
   ]
  },
  {
   "cell_type": "markdown",
   "id": "273d6ac5",
   "metadata": {},
   "source": [
    "Name: Muhammad Aqhari Nasrin Bin Ramli"
   ]
  },
  {
   "cell_type": "markdown",
   "id": "651b274f",
   "metadata": {},
   "source": [
    "E-mail : muhammad.aqhari.nasrin@gmail.com"
   ]
  },
  {
   "cell_type": "markdown",
   "id": "60f48310",
   "metadata": {},
   "source": [
    "## Overview"
   ]
  },
  {
   "cell_type": "markdown",
   "id": "a9e97bac",
   "metadata": {},
   "source": [
    "The main objective of this task is to perform a predicatory analysis on the data set to predict the 'label' based on numerical features provided in the \"data.csv\" file."
   ]
  },
  {
   "cell_type": "markdown",
   "id": "ef2f03d4",
   "metadata": {},
   "source": [
    "## Importing the Dependencies"
   ]
  },
  {
   "cell_type": "code",
   "execution_count": 1,
   "id": "29eba104",
   "metadata": {},
   "outputs": [],
   "source": [
    "import numpy as np                                    # to create numpy array\n",
    "import pandas as pd                                   # to loading data into data frame\n",
    "import matplotlib.pyplot as plt                       # to draw a graph\n",
    "import seaborn as sns                                 # used for data visualization and exploratory data analysis\n",
    "from sklearn.model_selection import train_test_split  # to split the data into training data and test data\n",
    "from sklearn.ensemble import RandomForestClassifier   # to use Random Forest Classifier model\n",
    "from sklearn.metrics import accuracy_score            # checking the accuracy of the model"
   ]
  },
  {
   "cell_type": "markdown",
   "id": "a8d0cf53",
   "metadata": {},
   "source": [
    "## Exploratory Data Analysis (EDA)"
   ]
  },
  {
   "cell_type": "code",
   "execution_count": 2,
   "id": "babe3b89",
   "metadata": {},
   "outputs": [
    {
     "data": {
      "text/html": [
       "<div>\n",
       "<style scoped>\n",
       "    .dataframe tbody tr th:only-of-type {\n",
       "        vertical-align: middle;\n",
       "    }\n",
       "\n",
       "    .dataframe tbody tr th {\n",
       "        vertical-align: top;\n",
       "    }\n",
       "\n",
       "    .dataframe thead th {\n",
       "        text-align: right;\n",
       "    }\n",
       "</style>\n",
       "<table border=\"1\" class=\"dataframe\">\n",
       "  <thead>\n",
       "    <tr style=\"text-align: right;\">\n",
       "      <th></th>\n",
       "      <th>0</th>\n",
       "      <th>1</th>\n",
       "      <th>2</th>\n",
       "      <th>3</th>\n",
       "      <th>4</th>\n",
       "      <th>5</th>\n",
       "      <th>6</th>\n",
       "      <th>7</th>\n",
       "      <th>8</th>\n",
       "      <th>9</th>\n",
       "      <th>...</th>\n",
       "      <th>144</th>\n",
       "      <th>145</th>\n",
       "      <th>146</th>\n",
       "      <th>147</th>\n",
       "      <th>148</th>\n",
       "      <th>149</th>\n",
       "      <th>150</th>\n",
       "      <th>151</th>\n",
       "      <th>152</th>\n",
       "      <th>label</th>\n",
       "    </tr>\n",
       "  </thead>\n",
       "  <tbody>\n",
       "    <tr>\n",
       "      <th>0</th>\n",
       "      <td>7.814237</td>\n",
       "      <td>-0.084</td>\n",
       "      <td>-0.298</td>\n",
       "      <td>-0.062</td>\n",
       "      <td>-0.321</td>\n",
       "      <td>-0.071</td>\n",
       "      <td>-0.235</td>\n",
       "      <td>9.71383</td>\n",
       "      <td>-0.045</td>\n",
       "      <td>443.847</td>\n",
       "      <td>...</td>\n",
       "      <td>0.050456</td>\n",
       "      <td>-25.606</td>\n",
       "      <td>-0.841356</td>\n",
       "      <td>-0.19302</td>\n",
       "      <td>-0.12006</td>\n",
       "      <td>0.050456</td>\n",
       "      <td>17.3734</td>\n",
       "      <td>0.005456</td>\n",
       "      <td>-0.278094</td>\n",
       "      <td>A</td>\n",
       "    </tr>\n",
       "    <tr>\n",
       "      <th>1</th>\n",
       "      <td>-0.125697</td>\n",
       "      <td>-0.130</td>\n",
       "      <td>2.900</td>\n",
       "      <td>-2.016</td>\n",
       "      <td>1.196</td>\n",
       "      <td>-0.392</td>\n",
       "      <td>-0.361</td>\n",
       "      <td>10.86430</td>\n",
       "      <td>-0.053</td>\n",
       "      <td>457.446</td>\n",
       "      <td>...</td>\n",
       "      <td>0.059082</td>\n",
       "      <td>-16.461</td>\n",
       "      <td>0.867605</td>\n",
       "      <td>-0.18317</td>\n",
       "      <td>-0.11182</td>\n",
       "      <td>0.051831</td>\n",
       "      <td>17.4348</td>\n",
       "      <td>0.006082</td>\n",
       "      <td>7.540777</td>\n",
       "      <td>A</td>\n",
       "    </tr>\n",
       "    <tr>\n",
       "      <th>2</th>\n",
       "      <td>0.892034</td>\n",
       "      <td>-0.067</td>\n",
       "      <td>-0.279</td>\n",
       "      <td>-1.386</td>\n",
       "      <td>2.377</td>\n",
       "      <td>-0.109</td>\n",
       "      <td>1.692</td>\n",
       "      <td>10.14610</td>\n",
       "      <td>-0.059</td>\n",
       "      <td>428.860</td>\n",
       "      <td>...</td>\n",
       "      <td>0.062515</td>\n",
       "      <td>-11.661</td>\n",
       "      <td>1.469185</td>\n",
       "      <td>-0.22228</td>\n",
       "      <td>-0.12084</td>\n",
       "      <td>0.058892</td>\n",
       "      <td>17.3416</td>\n",
       "      <td>0.003515</td>\n",
       "      <td>1.229768</td>\n",
       "      <td>A</td>\n",
       "    </tr>\n",
       "    <tr>\n",
       "      <th>3</th>\n",
       "      <td>-0.544446</td>\n",
       "      <td>-0.178</td>\n",
       "      <td>-0.149</td>\n",
       "      <td>-0.923</td>\n",
       "      <td>-0.266</td>\n",
       "      <td>-0.184</td>\n",
       "      <td>-0.294</td>\n",
       "      <td>10.05160</td>\n",
       "      <td>-0.059</td>\n",
       "      <td>459.425</td>\n",
       "      <td>...</td>\n",
       "      <td>0.049802</td>\n",
       "      <td>9.185</td>\n",
       "      <td>0.022207</td>\n",
       "      <td>-0.18457</td>\n",
       "      <td>-0.11476</td>\n",
       "      <td>0.048468</td>\n",
       "      <td>17.3010</td>\n",
       "      <td>-0.009198</td>\n",
       "      <td>-0.325045</td>\n",
       "      <td>A</td>\n",
       "    </tr>\n",
       "    <tr>\n",
       "      <th>4</th>\n",
       "      <td>0.725064</td>\n",
       "      <td>-0.277</td>\n",
       "      <td>-0.271</td>\n",
       "      <td>1.382</td>\n",
       "      <td>-0.215</td>\n",
       "      <td>-0.126</td>\n",
       "      <td>-0.333</td>\n",
       "      <td>9.67063</td>\n",
       "      <td>-0.055</td>\n",
       "      <td>421.000</td>\n",
       "      <td>...</td>\n",
       "      <td>0.046542</td>\n",
       "      <td>-7.400</td>\n",
       "      <td>0.250386</td>\n",
       "      <td>-0.18701</td>\n",
       "      <td>-0.11799</td>\n",
       "      <td>0.047495</td>\n",
       "      <td>17.4342</td>\n",
       "      <td>-0.008458</td>\n",
       "      <td>-0.489567</td>\n",
       "      <td>A</td>\n",
       "    </tr>\n",
       "  </tbody>\n",
       "</table>\n",
       "<p>5 rows × 154 columns</p>\n",
       "</div>"
      ],
      "text/plain": [
       "          0      1      2      3      4      5      6         7      8  \\\n",
       "0  7.814237 -0.084 -0.298 -0.062 -0.321 -0.071 -0.235   9.71383 -0.045   \n",
       "1 -0.125697 -0.130  2.900 -2.016  1.196 -0.392 -0.361  10.86430 -0.053   \n",
       "2  0.892034 -0.067 -0.279 -1.386  2.377 -0.109  1.692  10.14610 -0.059   \n",
       "3 -0.544446 -0.178 -0.149 -0.923 -0.266 -0.184 -0.294  10.05160 -0.059   \n",
       "4  0.725064 -0.277 -0.271  1.382 -0.215 -0.126 -0.333   9.67063 -0.055   \n",
       "\n",
       "         9  ...       144     145       146      147      148       149  \\\n",
       "0  443.847  ...  0.050456 -25.606 -0.841356 -0.19302 -0.12006  0.050456   \n",
       "1  457.446  ...  0.059082 -16.461  0.867605 -0.18317 -0.11182  0.051831   \n",
       "2  428.860  ...  0.062515 -11.661  1.469185 -0.22228 -0.12084  0.058892   \n",
       "3  459.425  ...  0.049802   9.185  0.022207 -0.18457 -0.11476  0.048468   \n",
       "4  421.000  ...  0.046542  -7.400  0.250386 -0.18701 -0.11799  0.047495   \n",
       "\n",
       "       150       151       152  label  \n",
       "0  17.3734  0.005456 -0.278094      A  \n",
       "1  17.4348  0.006082  7.540777      A  \n",
       "2  17.3416  0.003515  1.229768      A  \n",
       "3  17.3010 -0.009198 -0.325045      A  \n",
       "4  17.4342 -0.008458 -0.489567      A  \n",
       "\n",
       "[5 rows x 154 columns]"
      ]
     },
     "execution_count": 2,
     "metadata": {},
     "output_type": "execute_result"
    }
   ],
   "source": [
    "#loading data into pandas dataframe\n",
    "data = pd.read_csv('data.csv')\n",
    "data.head()"
   ]
  },
  {
   "cell_type": "code",
   "execution_count": 3,
   "id": "dd32c0dd",
   "metadata": {},
   "outputs": [
    {
     "data": {
      "text/plain": [
       "(10241, 154)"
      ]
     },
     "execution_count": 3,
     "metadata": {},
     "output_type": "execute_result"
    }
   ],
   "source": [
    "# number of rows and column\n",
    "\n",
    "data.shape"
   ]
  },
  {
   "cell_type": "markdown",
   "id": "4700b5bb",
   "metadata": {},
   "source": [
    "The datasets contain 10,241 rows and 154 columns"
   ]
  },
  {
   "cell_type": "markdown",
   "id": "63c81c0c",
   "metadata": {},
   "source": [
    "# Checking for missing data"
   ]
  },
  {
   "cell_type": "code",
   "execution_count": 4,
   "id": "dff70c27",
   "metadata": {},
   "outputs": [
    {
     "data": {
      "text/plain": [
       "0        0\n",
       "1        0\n",
       "2        0\n",
       "3        0\n",
       "4        0\n",
       "        ..\n",
       "149      0\n",
       "150      0\n",
       "151      0\n",
       "152      0\n",
       "label    0\n",
       "Length: 154, dtype: int64"
      ]
     },
     "execution_count": 4,
     "metadata": {},
     "output_type": "execute_result"
    }
   ],
   "source": [
    "data.isnull().sum()"
   ]
  },
  {
   "cell_type": "markdown",
   "id": "e685c138",
   "metadata": {},
   "source": [
    "None of the data is missing"
   ]
  },
  {
   "cell_type": "markdown",
   "id": "ef33e8f3",
   "metadata": {},
   "source": [
    "# Checking for unique value in 'label' column"
   ]
  },
  {
   "cell_type": "code",
   "execution_count": 5,
   "id": "c1e0af14",
   "metadata": {},
   "outputs": [
    {
     "data": {
      "text/plain": [
       "A    10000\n",
       "B      101\n",
       "C       59\n",
       "D       52\n",
       "E       29\n",
       "Name: label, dtype: int64"
      ]
     },
     "execution_count": 5,
     "metadata": {},
     "output_type": "execute_result"
    }
   ],
   "source": [
    "data['label'].value_counts()"
   ]
  },
  {
   "cell_type": "code",
   "execution_count": 6,
   "id": "efc5bef7",
   "metadata": {},
   "outputs": [
    {
     "data": {
      "text/plain": [
       "<seaborn.axisgrid.FacetGrid at 0x1edea93ecd0>"
      ]
     },
     "execution_count": 6,
     "metadata": {},
     "output_type": "execute_result"
    },
    {
     "data": {
      "image/png": "[encoded data removed]",
      "text/plain": [
       "<Figure size 360x360 with 1 Axes>"
      ]
     },
     "metadata": {
      "needs_background": "light"
     },
     "output_type": "display_data"
    }
   ],
   "source": [
    "sns.catplot(x='label', data = data, kind = 'count')  # number of unique values of each label"
   ]
  },
  {
   "cell_type": "markdown",
   "id": "e2d0c691",
   "metadata": {
    "scrolled": true
   },
   "source": [
    "# Statistical measures of data"
   ]
  },
  {
   "cell_type": "code",
   "execution_count": 7,
   "id": "068549f6",
   "metadata": {
    "scrolled": true
   },
   "outputs": [
    {
     "data": {
      "text/html": [
       "<div>\n",
       "<style scoped>\n",
       "    .dataframe tbody tr th:only-of-type {\n",
       "        vertical-align: middle;\n",
       "    }\n",
       "\n",
       "    .dataframe tbody tr th {\n",
       "        vertical-align: top;\n",
       "    }\n",
       "\n",
       "    .dataframe thead th {\n",
       "        text-align: right;\n",
       "    }\n",
       "</style>\n",
       "<table border=\"1\" class=\"dataframe\">\n",
       "  <thead>\n",
       "    <tr style=\"text-align: right;\">\n",
       "      <th></th>\n",
       "      <th>0</th>\n",
       "      <th>1</th>\n",
       "      <th>2</th>\n",
       "      <th>3</th>\n",
       "      <th>4</th>\n",
       "      <th>5</th>\n",
       "      <th>6</th>\n",
       "      <th>7</th>\n",
       "      <th>8</th>\n",
       "      <th>9</th>\n",
       "      <th>...</th>\n",
       "      <th>143</th>\n",
       "      <th>144</th>\n",
       "      <th>145</th>\n",
       "      <th>146</th>\n",
       "      <th>147</th>\n",
       "      <th>148</th>\n",
       "      <th>149</th>\n",
       "      <th>150</th>\n",
       "      <th>151</th>\n",
       "      <th>152</th>\n",
       "    </tr>\n",
       "  </thead>\n",
       "  <tbody>\n",
       "    <tr>\n",
       "      <th>count</th>\n",
       "      <td>10241.000000</td>\n",
       "      <td>10241.000000</td>\n",
       "      <td>10241.000000</td>\n",
       "      <td>10241.000000</td>\n",
       "      <td>10241.000000</td>\n",
       "      <td>10241.000000</td>\n",
       "      <td>10241.000000</td>\n",
       "      <td>10241.000000</td>\n",
       "      <td>10241.000000</td>\n",
       "      <td>10241.000000</td>\n",
       "      <td>...</td>\n",
       "      <td>10241.000000</td>\n",
       "      <td>10241.000000</td>\n",
       "      <td>10241.000000</td>\n",
       "      <td>10241.000000</td>\n",
       "      <td>10241.000000</td>\n",
       "      <td>10241.000000</td>\n",
       "      <td>10241.000000</td>\n",
       "      <td>10241.000000</td>\n",
       "      <td>10241.000000</td>\n",
       "      <td>10241.000000</td>\n",
       "    </tr>\n",
       "    <tr>\n",
       "      <th>mean</th>\n",
       "      <td>0.127977</td>\n",
       "      <td>-0.018351</td>\n",
       "      <td>-0.045335</td>\n",
       "      <td>-0.016402</td>\n",
       "      <td>0.074057</td>\n",
       "      <td>0.004281</td>\n",
       "      <td>-0.007069</td>\n",
       "      <td>10.162148</td>\n",
       "      <td>-0.037253</td>\n",
       "      <td>440.690561</td>\n",
       "      <td>...</td>\n",
       "      <td>-0.021312</td>\n",
       "      <td>0.050167</td>\n",
       "      <td>-7.314472</td>\n",
       "      <td>-0.003216</td>\n",
       "      <td>-0.195913</td>\n",
       "      <td>-0.120027</td>\n",
       "      <td>0.050307</td>\n",
       "      <td>17.452579</td>\n",
       "      <td>0.012914</td>\n",
       "      <td>0.116282</td>\n",
       "    </tr>\n",
       "    <tr>\n",
       "      <th>std</th>\n",
       "      <td>2.018572</td>\n",
       "      <td>0.597846</td>\n",
       "      <td>0.637736</td>\n",
       "      <td>0.953677</td>\n",
       "      <td>0.960843</td>\n",
       "      <td>0.749460</td>\n",
       "      <td>0.781811</td>\n",
       "      <td>1.086576</td>\n",
       "      <td>0.218479</td>\n",
       "      <td>22.920082</td>\n",
       "      <td>...</td>\n",
       "      <td>0.158499</td>\n",
       "      <td>0.007329</td>\n",
       "      <td>19.009677</td>\n",
       "      <td>1.008505</td>\n",
       "      <td>0.016852</td>\n",
       "      <td>0.006041</td>\n",
       "      <td>0.007461</td>\n",
       "      <td>0.309245</td>\n",
       "      <td>0.218503</td>\n",
       "      <td>1.284415</td>\n",
       "    </tr>\n",
       "    <tr>\n",
       "      <th>min</th>\n",
       "      <td>-5.480920</td>\n",
       "      <td>-0.442000</td>\n",
       "      <td>-0.647000</td>\n",
       "      <td>-2.989000</td>\n",
       "      <td>-0.517000</td>\n",
       "      <td>-0.501000</td>\n",
       "      <td>-0.585000</td>\n",
       "      <td>6.931490</td>\n",
       "      <td>-0.190000</td>\n",
       "      <td>373.688000</td>\n",
       "      <td>...</td>\n",
       "      <td>-0.163000</td>\n",
       "      <td>0.025462</td>\n",
       "      <td>-71.396000</td>\n",
       "      <td>-2.139501</td>\n",
       "      <td>-0.225480</td>\n",
       "      <td>-0.134270</td>\n",
       "      <td>0.021371</td>\n",
       "      <td>16.488000</td>\n",
       "      <td>-0.129709</td>\n",
       "      <td>-0.703326</td>\n",
       "    </tr>\n",
       "    <tr>\n",
       "      <th>25%</th>\n",
       "      <td>-0.710242</td>\n",
       "      <td>-0.179000</td>\n",
       "      <td>-0.303000</td>\n",
       "      <td>-0.773000</td>\n",
       "      <td>-0.310000</td>\n",
       "      <td>-0.190000</td>\n",
       "      <td>-0.310000</td>\n",
       "      <td>9.364720</td>\n",
       "      <td>-0.059000</td>\n",
       "      <td>427.281000</td>\n",
       "      <td>...</td>\n",
       "      <td>-0.039000</td>\n",
       "      <td>0.045284</td>\n",
       "      <td>-23.548000</td>\n",
       "      <td>-0.975703</td>\n",
       "      <td>-0.215400</td>\n",
       "      <td>-0.125170</td>\n",
       "      <td>0.045284</td>\n",
       "      <td>17.244000</td>\n",
       "      <td>-0.010955</td>\n",
       "      <td>-0.422425</td>\n",
       "    </tr>\n",
       "    <tr>\n",
       "      <th>50%</th>\n",
       "      <td>-0.055867</td>\n",
       "      <td>-0.113000</td>\n",
       "      <td>-0.261000</td>\n",
       "      <td>-0.028000</td>\n",
       "      <td>-0.282000</td>\n",
       "      <td>-0.126000</td>\n",
       "      <td>-0.278000</td>\n",
       "      <td>10.031200</td>\n",
       "      <td>-0.051000</td>\n",
       "      <td>439.011000</td>\n",
       "      <td>...</td>\n",
       "      <td>-0.024000</td>\n",
       "      <td>0.049835</td>\n",
       "      <td>-3.945000</td>\n",
       "      <td>0.230574</td>\n",
       "      <td>-0.188750</td>\n",
       "      <td>-0.120090</td>\n",
       "      <td>0.050065</td>\n",
       "      <td>17.453900</td>\n",
       "      <td>-0.001982</td>\n",
       "      <td>-0.330906</td>\n",
       "    </tr>\n",
       "    <tr>\n",
       "      <th>75%</th>\n",
       "      <td>0.694998</td>\n",
       "      <td>-0.076000</td>\n",
       "      <td>-0.196000</td>\n",
       "      <td>0.648000</td>\n",
       "      <td>-0.239000</td>\n",
       "      <td>-0.078000</td>\n",
       "      <td>-0.239000</td>\n",
       "      <td>10.832700</td>\n",
       "      <td>-0.045000</td>\n",
       "      <td>451.337000</td>\n",
       "      <td>...</td>\n",
       "      <td>-0.010000</td>\n",
       "      <td>0.054840</td>\n",
       "      <td>10.529000</td>\n",
       "      <td>0.875909</td>\n",
       "      <td>-0.181530</td>\n",
       "      <td>-0.114890</td>\n",
       "      <td>0.054958</td>\n",
       "      <td>17.659600</td>\n",
       "      <td>0.006053</td>\n",
       "      <td>-0.205713</td>\n",
       "    </tr>\n",
       "    <tr>\n",
       "      <th>max</th>\n",
       "      <td>57.246035</td>\n",
       "      <td>8.995000</td>\n",
       "      <td>5.757000</td>\n",
       "      <td>3.446000</td>\n",
       "      <td>9.443000</td>\n",
       "      <td>14.743000</td>\n",
       "      <td>13.556000</td>\n",
       "      <td>15.187900</td>\n",
       "      <td>5.189000</td>\n",
       "      <td>713.481000</td>\n",
       "      <td>...</td>\n",
       "      <td>3.838000</td>\n",
       "      <td>0.086035</td>\n",
       "      <td>28.328000</td>\n",
       "      <td>14.013760</td>\n",
       "      <td>-0.174830</td>\n",
       "      <td>-0.105990</td>\n",
       "      <td>0.109032</td>\n",
       "      <td>19.577500</td>\n",
       "      <td>5.230795</td>\n",
       "      <td>14.353956</td>\n",
       "    </tr>\n",
       "  </tbody>\n",
       "</table>\n",
       "<p>8 rows × 153 columns</p>\n",
       "</div>"
      ],
      "text/plain": [
       "                  0             1             2             3             4  \\\n",
       "count  10241.000000  10241.000000  10241.000000  10241.000000  10241.000000   \n",
       "mean       0.127977     -0.018351     -0.045335     -0.016402      0.074057   \n",
       "std        2.018572      0.597846      0.637736      0.953677      0.960843   \n",
       "min       -5.480920     -0.442000     -0.647000     -2.989000     -0.517000   \n",
       "25%       -0.710242     -0.179000     -0.303000     -0.773000     -0.310000   \n",
       "50%       -0.055867     -0.113000     -0.261000     -0.028000     -0.282000   \n",
       "75%        0.694998     -0.076000     -0.196000      0.648000     -0.239000   \n",
       "max       57.246035      8.995000      5.757000      3.446000      9.443000   \n",
       "\n",
       "                  5             6             7             8             9  \\\n",
       "count  10241.000000  10241.000000  10241.000000  10241.000000  10241.000000   \n",
       "mean       0.004281     -0.007069     10.162148     -0.037253    440.690561   \n",
       "std        0.749460      0.781811      1.086576      0.218479     22.920082   \n",
       "min       -0.501000     -0.585000      6.931490     -0.190000    373.688000   \n",
       "25%       -0.190000     -0.310000      9.364720     -0.059000    427.281000   \n",
       "50%       -0.126000     -0.278000     10.031200     -0.051000    439.011000   \n",
       "75%       -0.078000     -0.239000     10.832700     -0.045000    451.337000   \n",
       "max       14.743000     13.556000     15.187900      5.189000    713.481000   \n",
       "\n",
       "       ...           143           144           145           146  \\\n",
       "count  ...  10241.000000  10241.000000  10241.000000  10241.000000   \n",
       "mean   ...     -0.021312      0.050167     -7.314472     -0.003216   \n",
       "std    ...      0.158499      0.007329     19.009677      1.008505   \n",
       "min    ...     -0.163000      0.025462    -71.396000     -2.139501   \n",
       "25%    ...     -0.039000      0.045284    -23.548000     -0.975703   \n",
       "50%    ...     -0.024000      0.049835     -3.945000      0.230574   \n",
       "75%    ...     -0.010000      0.054840     10.529000      0.875909   \n",
       "max    ...      3.838000      0.086035     28.328000     14.013760   \n",
       "\n",
       "                147           148           149           150           151  \\\n",
       "count  10241.000000  10241.000000  10241.000000  10241.000000  10241.000000   \n",
       "mean      -0.195913     -0.120027      0.050307     17.452579      0.012914   \n",
       "std        0.016852      0.006041      0.007461      0.309245      0.218503   \n",
       "min       -0.225480     -0.134270      0.021371     16.488000     -0.129709   \n",
       "25%       -0.215400     -0.125170      0.045284     17.244000     -0.010955   \n",
       "50%       -0.188750     -0.120090      0.050065     17.453900     -0.001982   \n",
       "75%       -0.181530     -0.114890      0.054958     17.659600      0.006053   \n",
       "max       -0.174830     -0.105990      0.109032     19.577500      5.230795   \n",
       "\n",
       "                152  \n",
       "count  10241.000000  \n",
       "mean       0.116282  \n",
       "std        1.284415  \n",
       "min       -0.703326  \n",
       "25%       -0.422425  \n",
       "50%       -0.330906  \n",
       "75%       -0.205713  \n",
       "max       14.353956  \n",
       "\n",
       "[8 rows x 153 columns]"
      ]
     },
     "execution_count": 7,
     "metadata": {},
     "output_type": "execute_result"
    }
   ],
   "source": [
    "data.describe()"
   ]
  },
  {
   "cell_type": "markdown",
   "id": "d0a65d79",
   "metadata": {},
   "source": [
    "## Pearson Correlation"
   ]
  },
  {
   "cell_type": "code",
   "execution_count": 8,
   "id": "86cf547d",
   "metadata": {
    "scrolled": true
   },
   "outputs": [
    {
     "data": {
      "text/html": [
       "<div>\n",
       "<style scoped>\n",
       "    .dataframe tbody tr th:only-of-type {\n",
       "        vertical-align: middle;\n",
       "    }\n",
       "\n",
       "    .dataframe tbody tr th {\n",
       "        vertical-align: top;\n",
       "    }\n",
       "\n",
       "    .dataframe thead th {\n",
       "        text-align: right;\n",
       "    }\n",
       "</style>\n",
       "<table border=\"1\" class=\"dataframe\">\n",
       "  <thead>\n",
       "    <tr style=\"text-align: right;\">\n",
       "      <th></th>\n",
       "      <th>0</th>\n",
       "      <th>1</th>\n",
       "      <th>2</th>\n",
       "      <th>3</th>\n",
       "      <th>4</th>\n",
       "      <th>5</th>\n",
       "      <th>6</th>\n",
       "      <th>7</th>\n",
       "      <th>8</th>\n",
       "      <th>9</th>\n",
       "      <th>...</th>\n",
       "      <th>143</th>\n",
       "      <th>144</th>\n",
       "      <th>145</th>\n",
       "      <th>146</th>\n",
       "      <th>147</th>\n",
       "      <th>148</th>\n",
       "      <th>149</th>\n",
       "      <th>150</th>\n",
       "      <th>151</th>\n",
       "      <th>152</th>\n",
       "    </tr>\n",
       "  </thead>\n",
       "  <tbody>\n",
       "    <tr>\n",
       "      <th>0</th>\n",
       "      <td>1.000000</td>\n",
       "      <td>0.002652</td>\n",
       "      <td>-0.010912</td>\n",
       "      <td>0.038575</td>\n",
       "      <td>0.050106</td>\n",
       "      <td>0.008386</td>\n",
       "      <td>0.002332</td>\n",
       "      <td>0.170790</td>\n",
       "      <td>0.009473</td>\n",
       "      <td>0.164587</td>\n",
       "      <td>...</td>\n",
       "      <td>-0.003026</td>\n",
       "      <td>0.156966</td>\n",
       "      <td>0.039079</td>\n",
       "      <td>0.046398</td>\n",
       "      <td>-0.000989</td>\n",
       "      <td>-0.007058</td>\n",
       "      <td>0.154031</td>\n",
       "      <td>-0.186368</td>\n",
       "      <td>0.014737</td>\n",
       "      <td>-0.044113</td>\n",
       "    </tr>\n",
       "    <tr>\n",
       "      <th>1</th>\n",
       "      <td>0.002652</td>\n",
       "      <td>1.000000</td>\n",
       "      <td>0.025079</td>\n",
       "      <td>-0.019532</td>\n",
       "      <td>0.057252</td>\n",
       "      <td>0.026692</td>\n",
       "      <td>0.009735</td>\n",
       "      <td>0.003058</td>\n",
       "      <td>-0.002971</td>\n",
       "      <td>0.077088</td>\n",
       "      <td>...</td>\n",
       "      <td>0.023909</td>\n",
       "      <td>-0.010128</td>\n",
       "      <td>0.030099</td>\n",
       "      <td>0.017664</td>\n",
       "      <td>-0.007949</td>\n",
       "      <td>0.017670</td>\n",
       "      <td>0.002905</td>\n",
       "      <td>0.003298</td>\n",
       "      <td>-0.003310</td>\n",
       "      <td>0.046815</td>\n",
       "    </tr>\n",
       "    <tr>\n",
       "      <th>2</th>\n",
       "      <td>-0.010912</td>\n",
       "      <td>0.025079</td>\n",
       "      <td>1.000000</td>\n",
       "      <td>-0.022597</td>\n",
       "      <td>0.025652</td>\n",
       "      <td>0.062363</td>\n",
       "      <td>0.029748</td>\n",
       "      <td>-0.014507</td>\n",
       "      <td>0.004909</td>\n",
       "      <td>0.035047</td>\n",
       "      <td>...</td>\n",
       "      <td>0.026449</td>\n",
       "      <td>-0.058947</td>\n",
       "      <td>0.004268</td>\n",
       "      <td>-0.020856</td>\n",
       "      <td>0.007271</td>\n",
       "      <td>-0.007262</td>\n",
       "      <td>-0.057631</td>\n",
       "      <td>0.018983</td>\n",
       "      <td>0.002931</td>\n",
       "      <td>0.058118</td>\n",
       "    </tr>\n",
       "    <tr>\n",
       "      <th>3</th>\n",
       "      <td>0.038575</td>\n",
       "      <td>-0.019532</td>\n",
       "      <td>-0.022597</td>\n",
       "      <td>1.000000</td>\n",
       "      <td>-0.006409</td>\n",
       "      <td>0.014378</td>\n",
       "      <td>-0.009156</td>\n",
       "      <td>0.052911</td>\n",
       "      <td>0.024982</td>\n",
       "      <td>0.033303</td>\n",
       "      <td>...</td>\n",
       "      <td>-0.007293</td>\n",
       "      <td>0.054383</td>\n",
       "      <td>-0.004121</td>\n",
       "      <td>0.031578</td>\n",
       "      <td>0.014448</td>\n",
       "      <td>-0.131368</td>\n",
       "      <td>0.043999</td>\n",
       "      <td>-0.047019</td>\n",
       "      <td>0.026803</td>\n",
       "      <td>-0.010383</td>\n",
       "    </tr>\n",
       "    <tr>\n",
       "      <th>4</th>\n",
       "      <td>0.050106</td>\n",
       "      <td>0.057252</td>\n",
       "      <td>0.025652</td>\n",
       "      <td>-0.006409</td>\n",
       "      <td>1.000000</td>\n",
       "      <td>0.049617</td>\n",
       "      <td>0.030180</td>\n",
       "      <td>-0.013041</td>\n",
       "      <td>0.161708</td>\n",
       "      <td>0.064465</td>\n",
       "      <td>...</td>\n",
       "      <td>0.033625</td>\n",
       "      <td>-0.039982</td>\n",
       "      <td>0.021497</td>\n",
       "      <td>0.012219</td>\n",
       "      <td>0.000106</td>\n",
       "      <td>-0.019168</td>\n",
       "      <td>-0.035356</td>\n",
       "      <td>0.027186</td>\n",
       "      <td>0.160349</td>\n",
       "      <td>0.044330</td>\n",
       "    </tr>\n",
       "    <tr>\n",
       "      <th>...</th>\n",
       "      <td>...</td>\n",
       "      <td>...</td>\n",
       "      <td>...</td>\n",
       "      <td>...</td>\n",
       "      <td>...</td>\n",
       "      <td>...</td>\n",
       "      <td>...</td>\n",
       "      <td>...</td>\n",
       "      <td>...</td>\n",
       "      <td>...</td>\n",
       "      <td>...</td>\n",
       "      <td>...</td>\n",
       "      <td>...</td>\n",
       "      <td>...</td>\n",
       "      <td>...</td>\n",
       "      <td>...</td>\n",
       "      <td>...</td>\n",
       "      <td>...</td>\n",
       "      <td>...</td>\n",
       "      <td>...</td>\n",
       "      <td>...</td>\n",
       "    </tr>\n",
       "    <tr>\n",
       "      <th>148</th>\n",
       "      <td>-0.007058</td>\n",
       "      <td>0.017670</td>\n",
       "      <td>-0.007262</td>\n",
       "      <td>-0.131368</td>\n",
       "      <td>-0.019168</td>\n",
       "      <td>0.018775</td>\n",
       "      <td>-0.011769</td>\n",
       "      <td>0.011637</td>\n",
       "      <td>-0.003308</td>\n",
       "      <td>-0.037196</td>\n",
       "      <td>...</td>\n",
       "      <td>0.017956</td>\n",
       "      <td>0.018550</td>\n",
       "      <td>0.024721</td>\n",
       "      <td>-0.015459</td>\n",
       "      <td>0.002174</td>\n",
       "      <td>1.000000</td>\n",
       "      <td>0.019307</td>\n",
       "      <td>-0.016183</td>\n",
       "      <td>-0.002685</td>\n",
       "      <td>0.000315</td>\n",
       "    </tr>\n",
       "    <tr>\n",
       "      <th>149</th>\n",
       "      <td>0.154031</td>\n",
       "      <td>0.002905</td>\n",
       "      <td>-0.057631</td>\n",
       "      <td>0.043999</td>\n",
       "      <td>-0.035356</td>\n",
       "      <td>-0.046457</td>\n",
       "      <td>-0.002921</td>\n",
       "      <td>0.709164</td>\n",
       "      <td>-0.016122</td>\n",
       "      <td>0.151563</td>\n",
       "      <td>...</td>\n",
       "      <td>0.020335</td>\n",
       "      <td>0.858772</td>\n",
       "      <td>0.193551</td>\n",
       "      <td>0.079420</td>\n",
       "      <td>0.012018</td>\n",
       "      <td>0.019307</td>\n",
       "      <td>1.000000</td>\n",
       "      <td>-0.476468</td>\n",
       "      <td>0.012684</td>\n",
       "      <td>-0.091942</td>\n",
       "    </tr>\n",
       "    <tr>\n",
       "      <th>150</th>\n",
       "      <td>-0.186368</td>\n",
       "      <td>0.003298</td>\n",
       "      <td>0.018983</td>\n",
       "      <td>-0.047019</td>\n",
       "      <td>0.027186</td>\n",
       "      <td>0.038369</td>\n",
       "      <td>0.024858</td>\n",
       "      <td>-0.655851</td>\n",
       "      <td>0.001657</td>\n",
       "      <td>-0.213781</td>\n",
       "      <td>...</td>\n",
       "      <td>0.019582</td>\n",
       "      <td>-0.479179</td>\n",
       "      <td>-0.198321</td>\n",
       "      <td>-0.021305</td>\n",
       "      <td>-0.014014</td>\n",
       "      <td>-0.016183</td>\n",
       "      <td>-0.476468</td>\n",
       "      <td>1.000000</td>\n",
       "      <td>-0.014415</td>\n",
       "      <td>0.058078</td>\n",
       "    </tr>\n",
       "    <tr>\n",
       "      <th>151</th>\n",
       "      <td>0.014737</td>\n",
       "      <td>-0.003310</td>\n",
       "      <td>0.002931</td>\n",
       "      <td>0.026803</td>\n",
       "      <td>0.160349</td>\n",
       "      <td>0.021355</td>\n",
       "      <td>0.001585</td>\n",
       "      <td>0.017964</td>\n",
       "      <td>0.999437</td>\n",
       "      <td>0.049312</td>\n",
       "      <td>...</td>\n",
       "      <td>-0.003393</td>\n",
       "      <td>0.020106</td>\n",
       "      <td>0.007183</td>\n",
       "      <td>0.018527</td>\n",
       "      <td>-0.001049</td>\n",
       "      <td>-0.002685</td>\n",
       "      <td>0.012684</td>\n",
       "      <td>-0.014415</td>\n",
       "      <td>1.000000</td>\n",
       "      <td>0.005067</td>\n",
       "    </tr>\n",
       "    <tr>\n",
       "      <th>152</th>\n",
       "      <td>-0.044113</td>\n",
       "      <td>0.046815</td>\n",
       "      <td>0.058118</td>\n",
       "      <td>-0.010383</td>\n",
       "      <td>0.044330</td>\n",
       "      <td>0.068457</td>\n",
       "      <td>-0.007604</td>\n",
       "      <td>-0.045399</td>\n",
       "      <td>0.007914</td>\n",
       "      <td>0.018853</td>\n",
       "      <td>...</td>\n",
       "      <td>0.012509</td>\n",
       "      <td>-0.084870</td>\n",
       "      <td>-0.001620</td>\n",
       "      <td>-0.034105</td>\n",
       "      <td>0.009355</td>\n",
       "      <td>0.000315</td>\n",
       "      <td>-0.091942</td>\n",
       "      <td>0.058078</td>\n",
       "      <td>0.005067</td>\n",
       "      <td>1.000000</td>\n",
       "    </tr>\n",
       "  </tbody>\n",
       "</table>\n",
       "<p>153 rows × 153 columns</p>\n",
       "</div>"
      ],
      "text/plain": [
       "            0         1         2         3         4         5         6  \\\n",
       "0    1.000000  0.002652 -0.010912  0.038575  0.050106  0.008386  0.002332   \n",
       "1    0.002652  1.000000  0.025079 -0.019532  0.057252  0.026692  0.009735   \n",
       "2   -0.010912  0.025079  1.000000 -0.022597  0.025652  0.062363  0.029748   \n",
       "3    0.038575 -0.019532 -0.022597  1.000000 -0.006409  0.014378 -0.009156   \n",
       "4    0.050106  0.057252  0.025652 -0.006409  1.000000  0.049617  0.030180   \n",
       "..        ...       ...       ...       ...       ...       ...       ...   \n",
       "148 -0.007058  0.017670 -0.007262 -0.131368 -0.019168  0.018775 -0.011769   \n",
       "149  0.154031  0.002905 -0.057631  0.043999 -0.035356 -0.046457 -0.002921   \n",
       "150 -0.186368  0.003298  0.018983 -0.047019  0.027186  0.038369  0.024858   \n",
       "151  0.014737 -0.003310  0.002931  0.026803  0.160349  0.021355  0.001585   \n",
       "152 -0.044113  0.046815  0.058118 -0.010383  0.044330  0.068457 -0.007604   \n",
       "\n",
       "            7         8         9  ...       143       144       145  \\\n",
       "0    0.170790  0.009473  0.164587  ... -0.003026  0.156966  0.039079   \n",
       "1    0.003058 -0.002971  0.077088  ...  0.023909 -0.010128  0.030099   \n",
       "2   -0.014507  0.004909  0.035047  ...  0.026449 -0.058947  0.004268   \n",
       "3    0.052911  0.024982  0.033303  ... -0.007293  0.054383 -0.004121   \n",
       "4   -0.013041  0.161708  0.064465  ...  0.033625 -0.039982  0.021497   \n",
       "..        ...       ...       ...  ...       ...       ...       ...   \n",
       "148  0.011637 -0.003308 -0.037196  ...  0.017956  0.018550  0.024721   \n",
       "149  0.709164 -0.016122  0.151563  ...  0.020335  0.858772  0.193551   \n",
       "150 -0.655851  0.001657 -0.213781  ...  0.019582 -0.479179 -0.198321   \n",
       "151  0.017964  0.999437  0.049312  ... -0.003393  0.020106  0.007183   \n",
       "152 -0.045399  0.007914  0.018853  ...  0.012509 -0.084870 -0.001620   \n",
       "\n",
       "          146       147       148       149       150       151       152  \n",
       "0    0.046398 -0.000989 -0.007058  0.154031 -0.186368  0.014737 -0.044113  \n",
       "1    0.017664 -0.007949  0.017670  0.002905  0.003298 -0.003310  0.046815  \n",
       "2   -0.020856  0.007271 -0.007262 -0.057631  0.018983  0.002931  0.058118  \n",
       "3    0.031578  0.014448 -0.131368  0.043999 -0.047019  0.026803 -0.010383  \n",
       "4    0.012219  0.000106 -0.019168 -0.035356  0.027186  0.160349  0.044330  \n",
       "..        ...       ...       ...       ...       ...       ...       ...  \n",
       "148 -0.015459  0.002174  1.000000  0.019307 -0.016183 -0.002685  0.000315  \n",
       "149  0.079420  0.012018  0.019307  1.000000 -0.476468  0.012684 -0.091942  \n",
       "150 -0.021305 -0.014014 -0.016183 -0.476468  1.000000 -0.014415  0.058078  \n",
       "151  0.018527 -0.001049 -0.002685  0.012684 -0.014415  1.000000  0.005067  \n",
       "152 -0.034105  0.009355  0.000315 -0.091942  0.058078  0.005067  1.000000  \n",
       "\n",
       "[153 rows x 153 columns]"
      ]
     },
     "execution_count": 8,
     "metadata": {},
     "output_type": "execute_result"
    }
   ],
   "source": [
    "data.corr()"
   ]
  },
  {
   "cell_type": "markdown",
   "id": "ca7d2746",
   "metadata": {},
   "source": [
    "The table shows correlation between columns. "
   ]
  },
  {
   "cell_type": "markdown",
   "id": "7a3e6a46",
   "metadata": {},
   "source": [
    "# Separating the data"
   ]
  },
  {
   "cell_type": "markdown",
   "id": "2fecec61",
   "metadata": {},
   "source": [
    "Separate the data to dependent and independent variables that can be used for predictions."
   ]
  },
  {
   "cell_type": "code",
   "execution_count": 9,
   "id": "53d22f49",
   "metadata": {},
   "outputs": [],
   "source": [
    "# separate the data and Label\n",
    "X = data.drop('label',axis=1)\n",
    "Y = data['label']\n",
    "\n",
    "X = X.replace((np.inf, -np.inf, np.nan), 0).reset_index(drop=True)\n"
   ]
  },
  {
   "cell_type": "code",
   "execution_count": 10,
   "id": "094dfc3d",
   "metadata": {},
   "outputs": [
    {
     "name": "stdout",
     "output_type": "stream",
     "text": [
      "          0      1      2      3      4      5      6         7      8  \\\n",
      "0  7.814237 -0.084 -0.298 -0.062 -0.321 -0.071 -0.235   9.71383 -0.045   \n",
      "1 -0.125697 -0.130  2.900 -2.016  1.196 -0.392 -0.361  10.86430 -0.053   \n",
      "2  0.892034 -0.067 -0.279 -1.386  2.377 -0.109  1.692  10.14610 -0.059   \n",
      "3 -0.544446 -0.178 -0.149 -0.923 -0.266 -0.184 -0.294  10.05160 -0.059   \n",
      "4  0.725064 -0.277 -0.271  1.382 -0.215 -0.126 -0.333   9.67063 -0.055   \n",
      "\n",
      "         9  ...    143       144     145       146      147      148  \\\n",
      "0  443.847  ... -0.008  0.050456 -25.606 -0.841356 -0.19302 -0.12006   \n",
      "1  457.446  ... -0.020  0.059082 -16.461  0.867605 -0.18317 -0.11182   \n",
      "2  428.860  ... -0.012  0.062515 -11.661  1.469185 -0.22228 -0.12084   \n",
      "3  459.425  ... -0.041  0.049802   9.185  0.022207 -0.18457 -0.11476   \n",
      "4  421.000  ... -0.038  0.046542  -7.400  0.250386 -0.18701 -0.11799   \n",
      "\n",
      "        149      150       151       152  \n",
      "0  0.050456  17.3734  0.005456 -0.278094  \n",
      "1  0.051831  17.4348  0.006082  7.540777  \n",
      "2  0.058892  17.3416  0.003515  1.229768  \n",
      "3  0.048468  17.3010 -0.009198 -0.325045  \n",
      "4  0.047495  17.4342 -0.008458 -0.489567  \n",
      "\n",
      "[5 rows x 153 columns]\n"
     ]
    }
   ],
   "source": [
    "print(X.head())"
   ]
  },
  {
   "cell_type": "code",
   "execution_count": 11,
   "id": "b74baba7",
   "metadata": {},
   "outputs": [
    {
     "name": "stdout",
     "output_type": "stream",
     "text": [
      "0    A\n",
      "1    A\n",
      "2    A\n",
      "3    A\n",
      "4    A\n",
      "Name: label, dtype: object\n"
     ]
    }
   ],
   "source": [
    "print(Y.head())"
   ]
  },
  {
   "cell_type": "markdown",
   "id": "61e98eca",
   "metadata": {},
   "source": [
    "## Splitting the data\n",
    "\n",
    "Split the data into training and testing components."
   ]
  },
  {
   "cell_type": "code",
   "execution_count": 12,
   "id": "877cb3ee",
   "metadata": {},
   "outputs": [],
   "source": [
    "X_train,X_test,Y_train,Y_test = train_test_split(X,Y,test_size=0.1,stratify=Y,random_state=1)"
   ]
  },
  {
   "cell_type": "code",
   "execution_count": 13,
   "id": "5e3eb278",
   "metadata": {},
   "outputs": [
    {
     "name": "stdout",
     "output_type": "stream",
     "text": [
      "(10241, 153) (9216, 153) (1025, 153)\n"
     ]
    }
   ],
   "source": [
    "print(X.shape,X_train.shape,X_test.shape)"
   ]
  },
  {
   "cell_type": "markdown",
   "id": "6821f090",
   "metadata": {},
   "source": [
    "## Modelling: Random Forest Classifier\n",
    "\n",
    "Random Forest Classifier is selected because it can perform both regression and classification task. It can produces good predictions that can be understand easily. Plus, Random Forest can handle large datasets efficiently."
   ]
  },
  {
   "cell_type": "code",
   "execution_count": 14,
   "id": "f056f039",
   "metadata": {},
   "outputs": [],
   "source": [
    "model = RandomForestClassifier()"
   ]
  },
  {
   "cell_type": "code",
   "execution_count": 15,
   "id": "c9d903e4",
   "metadata": {},
   "outputs": [
    {
     "data": {
      "text/plain": [
       "RandomForestClassifier()"
      ]
     },
     "execution_count": 15,
     "metadata": {},
     "output_type": "execute_result"
    }
   ],
   "source": [
    "model.fit(X_train, Y_train)"
   ]
  },
  {
   "cell_type": "markdown",
   "id": "756cab83",
   "metadata": {},
   "source": [
    "## Accuracy of test data"
   ]
  },
  {
   "cell_type": "code",
   "execution_count": 16,
   "id": "ebaae9c3",
   "metadata": {},
   "outputs": [],
   "source": [
    "\n",
    "y_prediction = model.predict(X_test)\n",
    "test_data_accuracy = accuracy_score(y_prediction, Y_test)"
   ]
  },
  {
   "cell_type": "code",
   "execution_count": 17,
   "id": "e00d2e64",
   "metadata": {},
   "outputs": [
    {
     "name": "stdout",
     "output_type": "stream",
     "text": [
      "Accuracy :  0.984390243902439\n"
     ]
    }
   ],
   "source": [
    "print('Accuracy : ', test_data_accuracy)"
   ]
  },
  {
   "cell_type": "markdown",
   "id": "5f45a733",
   "metadata": {},
   "source": [
    "The model shows 98.4% accuracy"
   ]
  },
  {
   "cell_type": "markdown",
   "id": "9a84bba2",
   "metadata": {},
   "source": [
    "## Testing the data\n",
    "\n",
    "Use random data from \"data.csv\" to test the model"
   ]
  },
  {
   "cell_type": "code",
   "execution_count": 18,
   "id": "2f5cccf3",
   "metadata": {},
   "outputs": [
    {
     "name": "stdout",
     "output_type": "stream",
     "text": [
      "['C']\n"
     ]
    },
    {
     "name": "stderr",
     "output_type": "stream",
     "text": [
      "C:\\Users\\muham\\anaconda3\\lib\\site-packages\\sklearn\\base.py:450: UserWarning: X does not have valid feature names, but RandomForestClassifier was fitted with feature names\n",
      "  warnings.warn(\n"
     ]
    }
   ],
   "source": [
    "input_data = (2.633647663,-0.205,-0.232,0.28,1.453,-0.185,2.799,9.85672,-0.057,604.369,0.676,2.11749,4,0.0026696,-0.303,23755,-0.033,-0.098,2.869891036,1.0012,118.9271016,72.6716,-0.373,341,0.003631,0.02289,0.798747,-0.166,-0.063,-0.01,-0.123,0.00417314,0.69521,-0.01,-0.082,3457.99,-1.06,-0.067,-0.488,-0.394,-5.72638818,0.565,94.2252,-0.423,-0.308,-0.029,-0.146,-102.993,122.831,1.50594,1101.52,0.697,-0.027,-0.103,0.180752,-106.4,614.144,-0.113,5744.45,-0.034,122.831,0.995653,-0.00261,0.226,0,0.0019069,66431.9,0.0085,0.316,3.49714,0.00932506,0.179798,-0.491,-306.988,0.00161,-5.941991101,-0.00337,-0.0085,1.375514929,5213.4,0.00885653,-0.446,-0.10224,1.18473,-0.228,1.170401445,-0.028,22.4438,-0.01262,-0.0011441,3649.25,0.01298,341,0.484981,-0.314,1,-0.12888,3.11039,10.86875541,0.0005721,0.45074,1.49096,-0.019,3.08818,0.00051,-0.22158,-0.12938,-0.12926,347.407,2235.47,-0.525,3.47079,-302.7,15,-0.024,-0.059,0.00258,-0.063,1.15436,22.4551,1.08199,0.0059568,-0.202,-1.233,-0.087727848,6931.21,1.19771,2190,1.09668,0.200207,0.001511,-0.136,0.326,1.827,1.08199,-0.02,0.00619355,5.527355859,0.4846,-0.066,65801.6,0.989,654.8,-0.01,0.0437413,15.604,1.750271012,-0.21409,-0.12735,0.0404996,17.5625,-0.0132587,-0.3053304\n",
    ")\n",
    "# changing the input data to a numpy array\n",
    "input_data_as_numpy_array = np.asarray(input_data)\n",
    "\n",
    "# reshape the data as we are predicting the label for only one instance\n",
    "input_data_reshaped = input_data_as_numpy_array.reshape(1,-1)\n",
    "\n",
    "prediction = model.predict(input_data_reshaped)\n",
    "print(prediction)"
   ]
  },
  {
   "cell_type": "markdown",
   "id": "e353f3cf",
   "metadata": {},
   "source": [
    "The answer is true based on 'data.csv' file."
   ]
  },
  {
   "cell_type": "code",
   "execution_count": null,
   "id": "81161e37",
   "metadata": {},
   "outputs": [],
   "source": []
  }
 ],
 "metadata": {
  "kernelspec": {
   "display_name": "Python 3 (ipykernel)",
   "language": "python",
   "name": "python3"
  },
  "language_info": {
   "codemirror_mode": {
    "name": "ipython",
    "version": 3
   },
   "file_extension": ".py",
   "mimetype": "text/x-python",
   "name": "python",
   "nbconvert_exporter": "python",
   "pygments_lexer": "ipython3",
   "version": "3.9.12"
  }
 },
 "nbformat": 4,
 "nbformat_minor": 5
}
